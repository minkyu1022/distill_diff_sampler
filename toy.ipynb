{
 "cells": [
  {
   "cell_type": "code",
   "execution_count": 6,
   "metadata": {},
   "outputs": [
    {
     "name": "stdout",
     "output_type": "stream",
     "text": [
      "tensor([[-0.9510, -0.0737, -0.0372,  ..., -1.2769,  0.8617, -0.7988],\n",
      "        [ 1.8863,  0.3914, -1.4788,  ..., -0.8507, -0.4841,  0.7642],\n",
      "        [-1.4126, -0.3228,  3.1653,  ...,  0.1967, -1.0366,  0.2155],\n",
      "        ...,\n",
      "        [-0.5933, -0.6018,  0.1371,  ..., -0.2472, -0.8151,  1.1060],\n",
      "        [-1.4142, -2.2507,  0.9508,  ..., -0.6600,  0.9733,  0.6595],\n",
      "        [ 0.7088,  0.5730, -0.0406,  ..., -0.3403, -1.0439,  0.9189]],\n",
      "       device='cuda:0')\n",
      "tensor([-8.6829, 52.5876,  4.3736,  ..., 32.5501, 38.2761, 52.5825],\n",
      "       device='cuda:0')\n"
     ]
    }
   ],
   "source": [
    "import torch\n",
    "\n",
    "buffer = torch.load(\"buffer_data.pt\")\n",
    "\n",
    "print(buffer['samples'])\n",
    "print(buffer['rewards'])"
   ]
  }
 ],
 "metadata": {
  "kernelspec": {
   "display_name": "gfn_school",
   "language": "python",
   "name": "python3"
  },
  "language_info": {
   "codemirror_mode": {
    "name": "ipython",
    "version": 3
   },
   "file_extension": ".py",
   "mimetype": "text/x-python",
   "name": "python",
   "nbconvert_exporter": "python",
   "pygments_lexer": "ipython3",
   "version": "3.10.0"
  }
 },
 "nbformat": 4,
 "nbformat_minor": 2
}
