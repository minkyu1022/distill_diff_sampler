{
 "cells": [
  {
   "cell_type": "code",
   "execution_count": 3,
   "id": "ff522967",
   "metadata": {},
   "outputs": [
    {
     "data": {
      "application/vnd.jupyter.widget-view+json": {
       "model_id": "683a54df7cb3412ea011e4065e410c8a",
       "version_major": 2,
       "version_minor": 0
      },
      "text/plain": [
       "NGLWidget()"
      ]
     },
     "metadata": {},
     "output_type": "display_data"
    }
   ],
   "source": [
    "import numpy as np\n",
    "import nglview as nv\n",
    "import MDAnalysis as mda\n",
    "\n",
    "u = mda.Universe(\"../data/aldp/aldp.pdb\")\n",
    "\n",
    "date = \"2025-04-30_01:14:09\"\n",
    "positions = np.load(f\"../sample/{date}/gt_samples.npy\")[0].reshape(-1, 3)\n",
    "\n",
    "# name = \"../data/aldp/md/positions.npy\"\n",
    "# positions = np.load(name)[0]\n",
    "\n",
    "new_u = mda.Merge(u.atoms)\n",
    "new_u.atoms.positions = positions * 10\n",
    "\n",
    "view = nv.show_mdanalysis(new_u)\n",
    "view.add_representation(\"ball+stick\")\n",
    "view"
   ]
  },
  {
   "cell_type": "markdown",
   "id": "fafcb5e3",
   "metadata": {},
   "source": []
  },
  {
   "cell_type": "code",
   "execution_count": null,
   "id": "48550a79",
   "metadata": {},
   "outputs": [],
   "source": [
    "view.download_image(filename=f'../figure/aldp_gt.png')"
   ]
  }
 ],
 "metadata": {
  "kernelspec": {
   "display_name": "ds",
   "language": "python",
   "name": "python3"
  },
  "language_info": {
   "codemirror_mode": {
    "name": "ipython",
    "version": 3
   },
   "file_extension": ".py",
   "mimetype": "text/x-python",
   "name": "python",
   "nbconvert_exporter": "python",
   "pygments_lexer": "ipython3",
   "version": "3.10.16"
  }
 },
 "nbformat": 4,
 "nbformat_minor": 5
}
