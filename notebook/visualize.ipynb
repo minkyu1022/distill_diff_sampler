{
 "cells": [
  {
   "cell_type": "code",
   "execution_count": 109,
   "id": "ff522967",
   "metadata": {},
   "outputs": [
    {
     "data": {
      "application/vnd.jupyter.widget-view+json": {
       "model_id": "d95acca4df874aafa6d06506feae2c68",
       "version_major": 2,
       "version_minor": 0
      },
      "text/plain": [
       "NGLWidget()"
      ]
     },
     "metadata": {},
     "output_type": "display_data"
    }
   ],
   "source": [
    "import numpy as np\n",
    "import nglview as nv\n",
    "import MDAnalysis as mda\n",
    "\n",
    "u = mda.Universe(\"../data/aldp/aldp.pdb\")\n",
    "\n",
    "date = \"aldp_ours_3\"\n",
    "positions = np.load(f\"../sample/{date}/samples.npy\")[62].reshape(-1, 3)\n",
    "\n",
    "new_u = mda.Merge(u.atoms)\n",
    "new_u.atoms.positions = positions * 10\n",
    "\n",
    "view = nv.show_mdanalysis(new_u)\n",
    "view.add_representation(\"ball+stick\")\n",
    "view"
   ]
  },
  {
   "cell_type": "markdown",
   "id": "fafcb5e3",
   "metadata": {},
   "source": []
  },
  {
   "cell_type": "code",
   "execution_count": 111,
   "id": "48550a79",
   "metadata": {},
   "outputs": [],
   "source": [
    "view.download_image(filename=f'../figure/aldp_ours.png')"
   ]
  },
  {
   "cell_type": "code",
   "execution_count": 112,
   "id": "91b62f1f",
   "metadata": {},
   "outputs": [],
   "source": [
    "from PIL import Image\n",
    "\n",
    "# Load the saved image\n",
    "image_path = '../figure/aldp_ours.png'\n",
    "image = Image.open(image_path)\n",
    "\n",
    "# Crop the image to a square\n",
    "width, height = image.size\n",
    "min_dimension = min(width, height)\n",
    "left = (width - min_dimension) // 2\n",
    "top = (height - min_dimension) // 2\n",
    "right = left + min_dimension\n",
    "bottom = top + min_dimension\n",
    "\n",
    "cropped_image = image.crop((left, top, right, bottom))\n",
    "\n",
    "# Save the cropped image\n",
    "cropped_image.save('../figure/aldp_ours_cropped.png')"
   ]
  },
  {
   "cell_type": "code",
   "execution_count": null,
   "id": "814b6969",
   "metadata": {},
   "outputs": [],
   "source": []
  }
 ],
 "metadata": {
  "kernelspec": {
   "display_name": "ds",
   "language": "python",
   "name": "python3"
  },
  "language_info": {
   "codemirror_mode": {
    "name": "ipython",
    "version": 3
   },
   "file_extension": ".py",
   "mimetype": "text/x-python",
   "name": "python",
   "nbconvert_exporter": "python",
   "pygments_lexer": "ipython3",
   "version": "3.10.16"
  }
 },
 "nbformat": 4,
 "nbformat_minor": 5
}
